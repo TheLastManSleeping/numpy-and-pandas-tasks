{
 "cells": [
  {
   "cell_type": "markdown",
   "id": "d3df79dd",
   "metadata": {},
   "source": [
    "## Упражнения по библиотеке Numpy"
   ]
  },
  {
   "cell_type": "code",
   "execution_count": 1,
   "id": "76b9c43b",
   "metadata": {},
   "outputs": [],
   "source": [
    "import numpy as np\n",
    "import random as rand\n",
    "import scipy.spatial.distance as dist\n",
    "import time"
   ]
  },
  {
   "cell_type": "markdown",
   "id": "03727b7c",
   "metadata": {},
   "source": [
    "**1.** Дан случайный массив, поменять знак у элементов, значения которых между 3 и 8"
   ]
  },
  {
   "cell_type": "code",
   "execution_count": 28,
   "id": "b89a7523",
   "metadata": {},
   "outputs": [
    {
     "name": "stdout",
     "output_type": "stream",
     "text": [
      "[3 1 2 8 3 2 6 6 0 1]\n",
      "[ 3  1  2 -8  3  2 -6 -6  0  1]\n"
     ]
    }
   ],
   "source": [
    "a = np.random.randint(0, 10, 10)\n",
    "print(a)\n",
    "a[(3 < a) & (a < 8)] *= -1\n",
    "print(a)"
   ]
  },
  {
   "cell_type": "markdown",
   "id": "5fa4abda",
   "metadata": {},
   "source": [
    "**2.** Заменить максимальный элемент случайного массива на 0"
   ]
  },
  {
   "cell_type": "code",
   "execution_count": 15,
   "id": "f2788a6e",
   "metadata": {},
   "outputs": [
    {
     "name": "stdout",
     "output_type": "stream",
     "text": [
      "[6 2 0 3 8 5 3 0 0 0]\n",
      "[6 2 0 3 0 5 3 0 0 0]\n"
     ]
    }
   ],
   "source": [
    "a = np.random.randint(0, 10, 10)\n",
    "print(a)\n",
    "a[np.argmax(a)] = 0\n",
    "print(a)"
   ]
  },
  {
   "cell_type": "markdown",
   "id": "3cac656b",
   "metadata": {},
   "source": [
    "**3.** Построить прямое произведение массивов (все комбинации с каждым элементом). На вход подается двумерный массив"
   ]
  },
  {
   "cell_type": "code",
   "execution_count": 24,
   "id": "3396b764",
   "metadata": {},
   "outputs": [
    {
     "name": "stdout",
     "output_type": "stream",
     "text": [
      "[[5 1 2 2 9 0 9 8 8 5]\n",
      " [4 0 4 4 8 0 6 9 2 4]]\n",
      "[[20  0 20 20 40  0 30 45 10 20]\n",
      " [ 4  0  4  4  8  0  6  9  2  4]\n",
      " [ 8  0  8  8 16  0 12 18  4  8]\n",
      " [ 8  0  8  8 16  0 12 18  4  8]\n",
      " [36  0 36 36 72  0 54 81 18 36]\n",
      " [ 0  0  0  0  0  0  0  0  0  0]\n",
      " [36  0 36 36 72  0 54 81 18 36]\n",
      " [32  0 32 32 64  0 48 72 16 32]\n",
      " [32  0 32 32 64  0 48 72 16 32]\n",
      " [20  0 20 20 40  0 30 45 10 20]]\n"
     ]
    }
   ],
   "source": [
    "a = np.random.randint(0, 10, (2, 10))\n",
    "print(a)\n",
    "b = np.outer(a[0], a[1]) \n",
    "print(b)"
   ]
  },
  {
   "cell_type": "markdown",
   "id": "674c9354",
   "metadata": {},
   "source": [
    "**4.** Даны 2 массива A (8x3) и B (2x2). Найти строки в A, которые содержат элементы из каждой строки в B, независимо от порядка элементов в B"
   ]
  },
  {
   "cell_type": "code",
   "execution_count": 144,
   "id": "cb664782",
   "metadata": {},
   "outputs": [
    {
     "name": "stdout",
     "output_type": "stream",
     "text": [
      "[[3 0 0 3 0 0 2 3]\n",
      " [3 1 1 3 4 3 1 2]\n",
      " [3 4 4 2 0 3 3 1]]\n",
      "[[1 1]\n",
      " [4 2]]\n",
      "[3 1 1 3 4 3 1 2]\n",
      "[3 4 4 2 0 3 3 1]\n"
     ]
    }
   ],
   "source": [
    "a = np.random.randint(0, 5, (3, 8))\n",
    "b = np.random.randint(0, 5, (2, 2))\n",
    "print(a)\n",
    "print(b)\n",
    "for i in range(len(a)):\n",
    "    if False in np.isin(b, a[i]):\n",
    "        continue\n",
    "    print(a[i])    "
   ]
  },
  {
   "cell_type": "markdown",
   "id": "fa46533b",
   "metadata": {},
   "source": [
    "**5.** Дана 10x3 матрица, найти строки из неравных значений (например строка [2,2,3] остается, строка [3,3,3] удаляется)(fix&)"
   ]
  },
  {
   "cell_type": "code",
   "execution_count": 69,
   "id": "fa545b23",
   "metadata": {},
   "outputs": [
    {
     "name": "stdout",
     "output_type": "stream",
     "text": [
      "[[0 0 0]\n",
      " [1 0 1]\n",
      " [0 1 0]\n",
      " [1 0 1]\n",
      " [0 0 1]\n",
      " [0 0 0]\n",
      " [1 0 1]\n",
      " [0 0 1]\n",
      " [1 1 0]\n",
      " [0 0 1]]\n",
      "[[1 0 1]\n",
      " [0 1 0]\n",
      " [1 0 1]\n",
      " [0 0 1]\n",
      " [1 0 1]\n",
      " [0 0 1]\n",
      " [1 1 0]\n",
      " [0 0 1]]\n"
     ]
    }
   ],
   "source": [
    "a = np.random.randint(0, 2, (10,3))\n",
    "b = np.logical_and.reduce(a[: , 1:] == a[:,:-1], axis=1)\n",
    "c = a[~b]\n",
    "print(a)\n",
    "print(c)"
   ]
  },
  {
   "cell_type": "markdown",
   "id": "28f0d116",
   "metadata": {},
   "source": [
    "**6.** Дан двумерный массив. Удалить те строки, которые повторяются"
   ]
  },
  {
   "cell_type": "code",
   "execution_count": 94,
   "id": "83d2c0b7",
   "metadata": {},
   "outputs": [
    {
     "name": "stdout",
     "output_type": "stream",
     "text": [
      "[[1 2]\n",
      " [2 2]\n",
      " [2 1]\n",
      " [2 2]\n",
      " [2 2]\n",
      " [1 2]\n",
      " [1 2]\n",
      " [1 1]\n",
      " [2 1]\n",
      " [2 2]\n",
      " [2 2]\n",
      " [1 2]\n",
      " [2 1]\n",
      " [1 2]\n",
      " [2 1]\n",
      " [2 2]\n",
      " [2 1]\n",
      " [2 1]\n",
      " [2 1]\n",
      " [2 1]]\n",
      "[[1 1]\n",
      " [1 2]\n",
      " [2 1]\n",
      " [2 2]]\n"
     ]
    }
   ],
   "source": [
    "a = np.random.randint(1, 3, (20, 2))\n",
    "print(a)\n",
    "b = np.unique(a, axis=0)\n",
    "print(b)"
   ]
  },
  {
   "cell_type": "markdown",
   "id": "6daa9e37",
   "metadata": {},
   "source": [
    "______\n",
    "______"
   ]
  },
  {
   "cell_type": "markdown",
   "id": "cfbfcaff",
   "metadata": {},
   "source": [
    "Для каждой из следующих задач (1-5) нужно привести 2 реализации – одна без использования numpy (cчитайте, что там, где на входе или выходе должны быть numpy array, будут просто списки), а вторая полностью векторизованная с использованием numpy (без использования питоновских циклов/map/list comprehension).\n",
    "\n",
    "\n",
    "__Замечание 1.__ Можно считать, что все указанные объекты непустые (к примеру, в __задаче 1__ на диагонали матрицы есть ненулевые элементы).\n",
    "\n",
    "__Замечание 2.__ Для большинства задач решение занимает не больше 1-2 строк."
   ]
  },
  {
   "cell_type": "markdown",
   "id": "673cac7f",
   "metadata": {},
   "source": [
    "___"
   ]
  },
  {
   "cell_type": "markdown",
   "id": "ca6f585e",
   "metadata": {},
   "source": [
    "* __Задача 1__: Подсчитать произведение ненулевых элементов на диагонали прямоугольной матрицы.  \n",
    " Например, для X = np.array([[1, 0, 1], [2, 0, 2], [3, 0, 3], [4, 4, 4]]) ответ 3."
   ]
  },
  {
   "cell_type": "code",
   "execution_count": 140,
   "id": "065862fc",
   "metadata": {},
   "outputs": [
    {
     "name": "stdout",
     "output_type": "stream",
     "text": [
      "[[6, 1, 5], [6, 1, 5], [2, 8, 1], [1, 8, 6]]\n",
      "6\n",
      "[[0 4 6]\n",
      " [0 9 4]\n",
      " [8 8 2]\n",
      " [3 7 4]]\n",
      "18\n"
     ]
    }
   ],
   "source": [
    "a = [rand.sample(range(10), 3) for i in range(4)]\n",
    "print(a)\n",
    "b = 1\n",
    "k = len(a) if len(a) < len(a[0]) else len(a[0])\n",
    "for i in range(k):\n",
    "    if a[i][i] != 0:\n",
    "        b *= a[i][i]\n",
    "print(b)\n",
    "\n",
    "c = np.random.randint(0, 10, (4, 3))\n",
    "print(c)\n",
    "print(np.prod(np.trim_zeros(np.diagonal(c))))"
   ]
  },
  {
   "cell_type": "markdown",
   "id": "9fc51d41",
   "metadata": {},
   "source": [
    "* __Задача 2__: Даны два вектора x и y. Проверить, задают ли они одно и то же мультимножество.  \n",
    "  Например, для x = np.array([1, 2, 2, 4]), y = np.array([4, 2, 1, 2]) ответ True."
   ]
  },
  {
   "cell_type": "code",
   "execution_count": 146,
   "id": "a809e02f",
   "metadata": {},
   "outputs": [
    {
     "name": "stdout",
     "output_type": "stream",
     "text": [
      "[1, 7, 0, 8] [7, 1, 4, 0]\n",
      "False\n",
      "[1 1 0 0] [0 1 1 0]\n",
      "True\n"
     ]
    }
   ],
   "source": [
    "a = rand.sample(range(10), 4)\n",
    "b = rand.sample(range(10), 4)\n",
    "print(a, b)\n",
    "print(sorted(a) == sorted(b))\n",
    "\n",
    "c = np.random.randint(0, 10, 4)\n",
    "d = np.random.randint(0, 10, 4)\n",
    "print(c, d)\n",
    "print(np.array_equal(np.sort(c), np.sort(d)))"
   ]
  },
  {
   "cell_type": "markdown",
   "id": "b9c185c7",
   "metadata": {},
   "source": [
    "* __Задача 3__: Найти максимальный элемент в векторе x среди элементов, перед которыми стоит ноль. \n",
    " Например, для x = np.array([6, 2, 0, 3, 0, 0, 5, 7, 0]) ответ 5."
   ]
  },
  {
   "cell_type": "code",
   "execution_count": 195,
   "id": "b57df008",
   "metadata": {},
   "outputs": [
    {
     "name": "stdout",
     "output_type": "stream",
     "text": [
      "[0, 2, 0, 2, 4, 2, 0, 3, 5, 3, 0, 1, 3, 2, 4, 0, 4, 2, 4, 3]\n",
      "4\n",
      "[3 4 3 5 2 6 7 5 7 7 9 9 5 1 3 9 9 0 1 3]\n",
      "9\n"
     ]
    }
   ],
   "source": [
    "a = [rand.randint(0, 5) for i in range(20)]\n",
    "print(a)\n",
    "k = max([a[i] for i in range(1, len(a)) if a[i - 1] == 0])\n",
    "print(k)\n",
    "\n",
    "b = np.random.randint(0, 10, 20)\n",
    "print(b)\n",
    "t = np.where((b==0) & (b!=b[-1]))\n",
    "print((b[t[0]-1]).max())"
   ]
  },
  {
   "cell_type": "markdown",
   "id": "480be4ce",
   "metadata": {},
   "source": [
    "* __Задача 4__: Реализовать кодирование длин серий (Run-length encoding). Для некоторого вектора x необходимо вернуть кортеж из двух векторов одинаковой длины. Первый содержит числа, а второй - сколько раз их нужно повторить.  \n",
    " Например, для x = np.array([2, 2, 2, 3, 3, 3, 5]) ответ (np.array([2, 3, 5]), np.array([3, 3, 1]))."
   ]
  },
  {
   "cell_type": "code",
   "execution_count": 4,
   "id": "3c592124",
   "metadata": {},
   "outputs": [
    {
     "name": "stdout",
     "output_type": "stream",
     "text": [
      "[2, 4, 2, 5, 0, 3, 3, 4, 1, 3, 5, 2, 0, 0, 3, 4, 3, 5, 1, 5]\n",
      "([2, 4, 2, 5, 0, 3, 4, 1, 3, 5, 2, 0, 3, 4, 3, 5, 1], [1, 1, 1, 1, 1, 2, 1, 1, 1, 1, 1, 2, 1, 1, 1, 1, 1])\n",
      "[  1 666   1   1   1   3   3   3  23  23   1   8  42  42 555 555 555   1\n",
      " 777]\n",
      "[1 1 3 3 2 1 1 2 3 1 1] [  1 666   1   3  23   1   8  42 555   1 777]\n"
     ]
    }
   ],
   "source": [
    "a = [rand.randint(0, 5) for i in range(20)]\n",
    "print(a)\n",
    "vec1 = []\n",
    "vec2 = []\n",
    "counter = 1\n",
    "for i in range(1, len(a)):\n",
    "    if a[i] != a[i-1]:\n",
    "        vec1.append(a[i-1])\n",
    "        vec2.append(counter)\n",
    "        counter = 1\n",
    "        continue\n",
    "    counter+=1\n",
    "print((vec1, vec2))\n",
    "        \n",
    "    \n",
    "b = np.random.randint(0, 10, 20)\n",
    "print(b)\n",
    "y = b[1:] != b[:-1]     \n",
    "i = np.append(np.where(y), len(b) - 1)\n",
    "z = np.diff(np.append(-1, i))  \n",
    "print(z, b[i])    "
   ]
  },
  {
   "cell_type": "markdown",
   "id": "077532ec",
   "metadata": {},
   "source": [
    "* __Задача 5__: Даны две выборки объектов - X и Y. Вычислить матрицу евклидовых расстояний между объектами. Сравните с функцией scipy.spatial.distance.cdist по скорости работы."
   ]
  },
  {
   "cell_type": "code",
   "execution_count": 2,
   "id": "1e807797",
   "metadata": {},
   "outputs": [
    {
     "name": "stdout",
     "output_type": "stream",
     "text": [
      "[[3.0, 3.7416573867739413, 6.4031242374328485, 5.744562646538029], [3.3166247903554, 0.0, 3.605551275463989, 2.23606797749979], [6.164414002968976, 3.605551275463989, 0.0, 3.4641016151377544], [4.242640687119285, 2.23606797749979, 3.4641016151377544, 0.0]]\n",
      "Python: 0.00046825408935546875 seconds\n",
      "[[3.         3.74165739 6.40312424 5.74456265]\n",
      " [3.31662479 0.         3.60555128 2.23606798]\n",
      " [6.164414   3.60555128 0.         3.46410162]\n",
      " [4.24264069 2.23606798 3.46410162 0.        ]]\n",
      "NumPy: 0.04676556587219238 seconds\n",
      "[[3.         3.74165739 6.40312424 5.74456265]\n",
      " [3.31662479 0.         3.60555128 2.23606798]\n",
      " [6.164414   3.60555128 0.         3.46410162]\n",
      " [4.24264069 2.23606798 3.46410162 0.        ]]\n",
      "SciPy: 0.0007905960083007812 seconds\n"
     ]
    }
   ],
   "source": [
    "e = [[5, 4, 0], [3, 3, 3], [3, 5, 6], [1, 3, 4]]\n",
    "c = [[2, 4, 0], [3, 3, 3], [3, 5, 6], [1, 3, 4]]\n",
    "\n",
    "start_time = time.time()\n",
    "distance = []\n",
    "for x in e:\n",
    "    row = []\n",
    "    for y in c:\n",
    "        row.append(pow((sum([(a - b) ** 2 for a, b in zip(x, y)])), 1/2))\n",
    "    distance.append(row)\n",
    "print(distance)\n",
    "print(\"Python: %s seconds\" % (time.time() - start_time))\n",
    "\n",
    "a = np.array(e)\n",
    "b = np.array(c)\n",
    "start_time = time.time()\n",
    "p = np.add.outer(np.sum(a**2, axis=1), np.sum(b**2, axis=1))\n",
    "n = np.dot(a, b.T)\n",
    "print(np.sqrt(p - 2*n))\n",
    "print(\"NumPy: %s seconds\" % (time.time() - start_time))\n",
    "\n",
    "start_time = time.time()\n",
    "print(dist.cdist(e, c))\n",
    "print(\"SciPy: %s seconds\" % (time.time() - start_time))"
   ]
  },
  {
   "cell_type": "markdown",
   "id": "973e8064",
   "metadata": {},
   "source": [
    "_______\n",
    "________"
   ]
  },
  {
   "cell_type": "markdown",
   "id": "1104acb7",
   "metadata": {},
   "source": [
    "* #### __Задача 6__: CrunchieMunchies __*__\n",
    "\n",
    "Вы работаете в отделе маркетинга пищевой компании MyCrunch, которая разрабатывает новый вид вкусных, полезных злаков под названием **CrunchieMunchies**.\n",
    "\n",
    "Вы хотите продемонстрировать потребителям, насколько полезны ваши хлопья по сравнению с другими ведущими брендами, поэтому вы собрали данные о питании нескольких разных конкурентов.\n",
    "\n",
    "Ваша задача - использовать вычисления Numpy для анализа этих данных и доказать, что ваши **СrunchieMunchies** - самый здоровый выбор для потребителей.\n"
   ]
  },
  {
   "cell_type": "code",
   "execution_count": 129,
   "id": "10a77f8d",
   "metadata": {},
   "outputs": [],
   "source": [
    "import numpy as np"
   ]
  },
  {
   "cell_type": "markdown",
   "id": "ab87cb03",
   "metadata": {},
   "source": [
    "1. Просмотрите файл cereal.csv. Этот файл содержит количества калорий для различных марок хлопьев. Загрузите данные из файла и сохраните их как calorie_stats."
   ]
  },
  {
   "cell_type": "code",
   "execution_count": 160,
   "id": "9681ebf2",
   "metadata": {},
   "outputs": [
    {
     "data": {
      "text/plain": [
       "array([ 70., 120.,  70.,  50., 110., 110., 110., 130.,  90.,  90., 120.,\n",
       "       110., 120., 110., 110., 110., 100., 110., 110., 110., 100., 110.,\n",
       "       100., 100., 110., 110., 100., 120., 120., 110., 100., 110., 100.,\n",
       "       110., 120., 120., 110., 110., 110., 140., 110., 100., 110., 100.,\n",
       "       150., 150., 160., 100., 120., 140.,  90., 130., 120., 100.,  50.,\n",
       "        50., 100., 100., 120., 100.,  90., 110., 110.,  80.,  90.,  90.,\n",
       "       110., 110.,  90., 110., 140., 100., 110., 110., 100., 100., 110.])"
      ]
     },
     "execution_count": 160,
     "metadata": {},
     "output_type": "execute_result"
    }
   ],
   "source": [
    "calorie_stats = np.loadtxt(\"./data/cereal.csv\", delimiter=\",\")\n",
    "calorie_stats"
   ]
  },
  {
   "cell_type": "markdown",
   "id": "139cfbd8",
   "metadata": {},
   "source": [
    "2. В одной порции CrunchieMunchies содержится 60 калорий. Насколько выше среднее количество калорий у ваших конкурентов?\n",
    "\n",
    "Сохраните ответ в переменной average_calories и распечатайте переменную в терминале"
   ]
  },
  {
   "cell_type": "code",
   "execution_count": 133,
   "id": "7036d240",
   "metadata": {},
   "outputs": [
    {
     "data": {
      "text/plain": [
       "106.88311688311688"
      ]
     },
     "execution_count": 133,
     "metadata": {},
     "output_type": "execute_result"
    }
   ],
   "source": [
    "average_calories = np.mean(calorie_stats)\n",
    "average_calories "
   ]
  },
  {
   "cell_type": "markdown",
   "id": "b2ddb4cd",
   "metadata": {},
   "source": [
    "3. Корректно ли среднее количество калорий отражает распределение набора данных? Давайте отсортируем данные и посмотрим.\n",
    "\n",
    "Отсортируйте данные и сохраните результат в переменной calorie_stats_sorted. Распечатайте отсортированную информацию"
   ]
  },
  {
   "cell_type": "code",
   "execution_count": 132,
   "id": "46eeb4ed",
   "metadata": {},
   "outputs": [
    {
     "data": {
      "text/plain": [
       "array([ 50.,  50.,  50.,  70.,  70.,  80.,  90.,  90.,  90.,  90.,  90.,\n",
       "        90.,  90., 100., 100., 100., 100., 100., 100., 100., 100., 100.,\n",
       "       100., 100., 100., 100., 100., 100., 100., 100., 110., 110., 110.,\n",
       "       110., 110., 110., 110., 110., 110., 110., 110., 110., 110., 110.,\n",
       "       110., 110., 110., 110., 110., 110., 110., 110., 110., 110., 110.,\n",
       "       110., 110., 110., 110., 120., 120., 120., 120., 120., 120., 120.,\n",
       "       120., 120., 120., 130., 130., 140., 140., 140., 150., 150., 160.])"
      ]
     },
     "execution_count": 132,
     "metadata": {},
     "output_type": "execute_result"
    }
   ],
   "source": [
    "calorie_stats_sorted = np.sort(calorie_stats)\n",
    "calorie_stats_sorted"
   ]
  },
  {
   "cell_type": "markdown",
   "id": "4dc74116",
   "metadata": {},
   "source": [
    "4. Похоже, что большинство значений выше среднего. Давайте посмотрим, является ли медиана наиболее корректным показателем набора данных.\n",
    "\n",
    "Вычислите медиану набора данных и сохраните свой ответ в median_calories. Выведите медиану, чтобы вы могли видеть, как она сравнивается со средним значением."
   ]
  },
  {
   "cell_type": "code",
   "execution_count": 134,
   "id": "b56627c3",
   "metadata": {},
   "outputs": [
    {
     "data": {
      "text/plain": [
       "110.0"
      ]
     },
     "execution_count": 134,
     "metadata": {},
     "output_type": "execute_result"
    }
   ],
   "source": [
    "median_calories = np.median(calorie_stats)\n",
    "median_calories"
   ]
  },
  {
   "cell_type": "markdown",
   "id": "a63ab72f",
   "metadata": {},
   "source": [
    "5. В то время как медиана показывает, что по крайней мере половина наших значений составляет более 100 калорий, было бы более впечатляюще показать, что значительная часть конкурентов имеет более высокое количество калорий, чем CrunchieMunchies.\n",
    "\n",
    "Рассчитайте различные процентили и распечатайте их, пока не найдете наименьший процентиль, превышающий 60 калорий. Сохраните это значение в переменной nth_percentile."
   ]
  },
  {
   "cell_type": "code",
   "execution_count": 157,
   "id": "fe80ce03",
   "metadata": {
    "scrolled": true
   },
   "outputs": [
    {
     "name": "stdout",
     "output_type": "stream",
     "text": [
      "110.0\n",
      "100.0\n",
      "100.0\n",
      "90.0\n",
      "60.16\n",
      "50.0\n"
     ]
    }
   ],
   "source": [
    "print(np.percentile(calorie_stats, 60))\n",
    "print(np.percentile(calorie_stats, 30))\n",
    "print(np.percentile(calorie_stats, 20))\n",
    "print(np.percentile(calorie_stats, 10))\n",
    "print(np.percentile(calorie_stats, 3.3))\n",
    "print(np.percentile(calorie_stats, 2))\n",
    "nth_percentile = np.percentile(calorie_stats, 3.3)"
   ]
  },
  {
   "cell_type": "markdown",
   "id": "a2a3c5aa",
   "metadata": {},
   "source": [
    "6. Хотя процентиль показывает нам, что у большинства конкурентов количество калорий намного выше, это неудобная концепция для использования в маркетинговых материалах.\n",
    "\n",
    "Вместо этого давайте подсчитаем процент хлопьев, в которых содержится более 60 калорий на порцию. Сохраните свой ответ в переменной more_calories и распечатайте его"
   ]
  },
  {
   "cell_type": "code",
   "execution_count": 178,
   "id": "ade0f6ea",
   "metadata": {},
   "outputs": [
    {
     "data": {
      "text/plain": [
       "'96.1%'"
      ]
     },
     "execution_count": 178,
     "metadata": {},
     "output_type": "execute_result"
    }
   ],
   "source": [
    "more_calories = '{:.1%}'.format(np.mean((60 < calorie_stats)))\n",
    "more_calories "
   ]
  },
  {
   "cell_type": "markdown",
   "id": "1735d65b",
   "metadata": {},
   "source": [
    "7. Это действительно высокий процент. Это будет очень полезно, когда мы будем продвигать CrunchieMunchies. Но один вопрос заключается в том, насколько велики различия в наборе данных? Можем ли мы сделать обобщение, что в большинстве злаков содержится около 100 калорий или разброс еще больше?\n",
    "\n",
    "Рассчитайте величину отклонения, найдя стандартное отклонение, Сохраните свой ответ в calorie_std и распечатайте на терминале. Как мы можем включить эту ценность в наш анализ?"
   ]
  },
  {
   "cell_type": "code",
   "execution_count": 180,
   "id": "85c8df1f",
   "metadata": {},
   "outputs": [
    {
     "data": {
      "text/plain": [
       "19.35718533390827"
      ]
     },
     "execution_count": 180,
     "metadata": {},
     "output_type": "execute_result"
    }
   ],
   "source": [
    "calorie_std = np.std(calorie_stats)\n",
    "calorie_std"
   ]
  },
  {
   "cell_type": "markdown",
   "id": "037455c5",
   "metadata": {},
   "source": [
    "8. Напишите короткий абзац, в котором кратко изложите свои выводы и то, как, по вашему мнению, эти данные могут быть использованы в интересах Mycrunch при маркетинге CrunchieMunchies."
   ]
  },
  {
   "cell_type": "markdown",
   "id": "d51a3835",
   "metadata": {},
   "source": [
    "Исходя из подсчётов выше, можно сказать, что большинство конкурентов наших хлопьев имеет повышенную калорийность. Этим можно воспользоваться для того, чтобы пропиарить наши хлопья среди потенциальных покупателей. Хотя и есть хлопья, в которых калорий меньше, мы всё равно входим в 96.1% процент лучших хлопьев по этому показателю. Также стоит сказать, что разброс в 19.357 относительно среднего значения 110 - достаточно небольшой. то значит, что конкуренты не особо заботятся о своих покупателях и не пытаются сделать что-либо действительн новое и полезное."
   ]
  }
 ],
 "metadata": {
  "kernelspec": {
   "display_name": "Python 3 (ipykernel)",
   "language": "python",
   "name": "python3"
  },
  "language_info": {
   "codemirror_mode": {
    "name": "ipython",
    "version": 3
   },
   "file_extension": ".py",
   "mimetype": "text/x-python",
   "name": "python",
   "nbconvert_exporter": "python",
   "pygments_lexer": "ipython3",
   "version": "3.8.10"
  }
 },
 "nbformat": 4,
 "nbformat_minor": 5
}
